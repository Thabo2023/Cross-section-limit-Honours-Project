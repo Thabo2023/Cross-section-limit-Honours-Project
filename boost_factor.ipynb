{
 "cells": [
  {
   "cell_type": "markdown",
   "metadata": {},
   "source": [
    "# The \"boost factor\""
   ]
  },
  {
   "cell_type": "code",
   "execution_count": 16,
   "metadata": {},
   "outputs": [],
   "source": [
    "import numpy as np\n",
    "from matplotlib import pyplot as plt\n",
    "from scipy.integrate import simpson\n",
    "\n",
    "def nfw(r,rs,rhos):\n",
    "    x = r/rs\n",
    "    return rhos/x/(1+x)**2"
   ]
  },
  {
   "cell_type": "markdown",
   "metadata": {},
   "source": [
    "We will do this with an NFW halo profile (as we use it for Coma), now the boost factor is the effect of sub-halos. These are smaller dark matter halos within a larger halo (big halos form by lots of small halos merging and some of them survive remaining as sub-halos, the rest become the smooth DM profile of the parent halo). \n",
    "\n",
    "For an NFW halo we find the distribution of sub-halos as follows (see arXiv:1610.02399)\n",
    "\\begin{equation}\n",
    "    \\rho_{\\mathrm{sub}}(r) = \\rho_{NFW}(r) \\times \\frac{4 x_v}{(1+x_v)^2} \\; ,\n",
    "\\end{equation}\n",
    "where $x_v = \\frac{r}{r_{\\mathrm{vir}}}$. This $r_{\\mathrm{vir}}$ is the \"virial radius\" which is 2.7 Mpc for Coma. I will plot this distribution below"
   ]
  },
  {
   "cell_type": "code",
   "execution_count": 17,
   "metadata": {},
   "outputs": [
    {
     "data": {
      "image/png": "[encoded data removed]",
      "text/plain": [
       "<Figure size 432x288 with 1 Axes>"
      ]
     },
     "metadata": {
      "needs_background": "light"
     },
     "output_type": "display_data"
    }
   ],
   "source": [
    "def sub_dist(r,rvir):\n",
    "    x = r/rvir\n",
    "    return 4*x/(1+x)**2\n",
    "rvir = 2.7 #Mpc\n",
    "rs = 2.7/9.4 #Mpc\n",
    "rhos = 1.86e6*1e9 #Msol/Mpc^3\n",
    "r = np.logspace(-3,np.log10(rvir),num=101)\n",
    "plt.plot(r,nfw(r,rs,rhos)*sub_dist(r,rvir),label=\"Sub-halos\")\n",
    "plt.plot(r,nfw(r,rs,rhos),label=\"Parent\")\n",
    "plt.legend()\n",
    "plt.xscale(\"log\")\n",
    "plt.yscale(\"log\")\n",
    "plt.show()"
   ]
  },
  {
   "cell_type": "markdown",
   "metadata": {},
   "source": [
    "As we can see, the sub-halo distribution is much flatter at small radii, as we expect more sub-halos to survive at larger radii. At small radii they are ripped apart by tidal stripping. Sub-halos affect our gamma-ray flux because they are much dense than their parent halo and our flux scales with $\\rho^2$. People have computed the full effect of this as increasing the flux by a factor of $\\sim 60$ (see arXiv:1603.04057). We need to know how much of that boost we will get when integrating to $R = 0.89$ Mpc rather than the full virial radius. Thus, we can compute\n",
    "\\begin{equation}\n",
    "\\mathcal{B} = 60 \\frac{\\int_0^R d r r^2 \\rho_{\\mathrm{sub}}(r)}{\\int_0^{r_{\\mathrm{vir}}} d r r^2 \\rho_{\\mathrm{sub}}(r)} \\; .\n",
    "\\end{equation}"
   ]
  },
  {
   "cell_type": "code",
   "execution_count": 18,
   "metadata": {},
   "outputs": [
    {
     "name": "stdout",
     "output_type": "stream",
     "text": [
      "Final boost factor: 17.77096750030117\n"
     ]
    }
   ],
   "source": [
    "rho_sub_full = nfw(r,rs,rhos)*sub_dist(r,rvir)\n",
    "r_integ = np.logspace(-3,np.log10(0.89),num=101)\n",
    "rho_sub_R = nfw(r_integ,rs,rhos)*sub_dist(r_integ,rvir)\n",
    "print(f\"Final boost factor: {60*simpson(r_integ**2*rho_sub_R,r_integ)/simpson(r**2*rho_sub_full,r)}\")"
   ]
  }
 ],
 "metadata": {
  "kernelspec": {
   "display_name": "Python 3 (ipykernel)",
   "language": "python",
   "name": "python3"
  },
  "language_info": {
   "codemirror_mode": {
    "name": "ipython",
    "version": 3
   },
   "file_extension": ".py",
   "mimetype": "text/x-python",
   "name": "python",
   "nbconvert_exporter": "python",
   "pygments_lexer": "ipython3",
   "version": "3.9.12"
  },
  "vscode": {
   "interpreter": {
    "hash": "31f2aee4e71d21fbe5cf8b01ff0e069b9275f58929596ceb00d14d90e3e16cd6"
   }
  }
 },
 "nbformat": 4,
 "nbformat_minor": 2
}
