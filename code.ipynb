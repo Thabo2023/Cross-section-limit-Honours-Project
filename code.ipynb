{
 "cells": [
  {
   "cell_type": "code",
   "execution_count": 1,
   "id": "f24bfe7a",
   "metadata": {
    "scrolled": true
   },
   "outputs": [
    {
     "name": "stdout",
     "output_type": "stream",
     "text": [
      "1.3578437019523239e+70 GeV2 / cm3\n",
      "1.031414488806459e+16 GeV2 / cm5\n"
     ]
    },
    {
     "data": {
      "image/png": "[encoded data removed]",
      "text/plain": [
       "<Figure size 432x288 with 1 Axes>"
      ]
     },
     "metadata": {
      "needs_background": "light"
     },
     "output_type": "display_data"
    }
   ],
   "source": [
    "import numpy as np\n",
    "from scipy.integrate import simpson\n",
    "from astropy import units as u\n",
    "from astropy import constants as c\n",
    "from matplotlib import pyplot as plt\n",
    "import sys\n",
    "from scipy.interpolate import interp1d\n",
    "from scipy import stats\n",
    "\n",
    "\n",
    "# Nevaro Frenk White Profile\n",
    "rs = (0.287*u.Mpc).value\n",
    "Rmax = (0.89*u.Mpc).value\n",
    "z = np.logspace(-3,2,101)\n",
    "r = np.logspace(-3,np.log10(Rmax),101)\n",
    "z_grid,r_grid = np.meshgrid(z,r,indexing=\"ij\")\n",
    "ρs = ((1.86*10**6)*(u.M_sun/((u.kpc).to(u.Mpc))**3)).value \n",
    "\n",
    "def ρ(r,rs,ρs):\n",
    "    x = r/rs\n",
    "    return ρs/ x/(1+x)**2 \n",
    "\n",
    "\n",
    "def f(r,z):\n",
    "    x = np.sqrt(r**2+z**2)\n",
    "    return 4*np.pi*(ρ(x,rs,ρs)**2)*r\n",
    "\n",
    "# Integral for the J-facto\n",
    "I_1 = simpson(f(r_grid,z_grid),z_grid,axis=0)\n",
    "I_2 = simpson(I_1,r,axis=-1)\n",
    "\n",
    "unit_factor = ((\"u.M_sun**2/u.Mpc**3\")*c.c**4).to(u.GeV**2/u.cm**3)\n",
    "I = (unit_factor)*I_2\n",
    "print(I)\n",
    "\n",
    "\n",
    "\n",
    "\n",
    "#Finding the J-factor\n",
    "d_L = (104.89452*u.Mpc).to(u.cm) #d_L is the luminosty distance at z =0.0231\n",
    "J_factor = (I/(4*np.pi*(d_L)**2))\n",
    "     \n",
    "print(J_factor)\n",
    "\n",
    "\n",
    "# Chi Squared model\n",
    "\n",
    "\n",
    "\n",
    "from sympy import Chi\n",
    "data_two = np.loadtxt(\"true..csv\", unpack=True)\n",
    "\n",
    "def χ_squared(model,data,axis=-1,dataUncert=None,alpha=2):\n",
    "    if dataUncert is None:\n",
    "        dataUncert = data \n",
    "    if dataUncert.shape != data.shape or model.shape != data.shape:\n",
    "        #print(\"χ_squared error: model, data, and dataUncert (if specified) must be the same shape!\")\n",
    "        sys.exit(2)\n",
    "    return np.sum((model-data)**alpha/dataUncert**alpha,axis=axis) \n",
    "\n",
    "data = np.loadtxt(\"AtProduction_gammas (1).dat\", unpack=True)\n",
    "coma_data = np.loadtxt(\"coma_fermi_2016.txt\",unpack=True)\n",
    "M = np.unique(data[0])\n",
    "upperLims= []\n",
    "mass_set = [10,20,40,60,1e2,2e2,3e2,5e2,1e3]\n",
    "for m in mass_set:\n",
    "        x = 10**data[1][data[0]==m]\n",
    "        y = data[13][data[0]==m]\n",
    "        dN_dE = y/m/x/np.log(10)\n",
    "        coma_x = coma_data[0]*1e-3\n",
    "        coma_y = coma_data[1]*1e-3\n",
    "        sigv = np.logspace(1,6,num=300)*1e-26 \n",
    "        f = interp1d(x*m,dN_dE,fill_value=0.0,bounds_error=False)\n",
    "        Boost_factor =  17.77096750030117 # Boost factor Computed seperately\n",
    "        ϕ = J_factor*f(coma_x)/2/(m**2)*coma_x*Boost_factor # flux of i particles\n",
    "        model = np.tensordot(ϕ.value,sigv,axes=0)\n",
    "        fit_data = np.tensordot(coma_y,np.ones_like(sigv),axes=0)\n",
    "        #print(ϕ)\n",
    "        #print(model)\n",
    "        chi2 = χ_squared(model,fit_data,axis = 0)\n",
    "        chiDiff = chi2 - np.min(chi2)\n",
    "        cdf = stats.chi2.cdf(chiDiff,len(ϕ)-1)\n",
    "        upperLims.append(np.min(sigv[cdf>=0.95]))\n",
    "\n",
    "\n",
    "\n",
    "plt.plot(mass_set,upperLims,linestyle=\"-\",label= \"our data\")\n",
    "plt.plot(data_two[0],data_two[1],linestyle =\"--\",label=\"Fermi LAT data\")\n",
    "plt.plot(M,np.ones_like(M)*2.2e-26,linestyle=\":\",label=\"thermal relic cross-sectiom\") \n",
    "plt.yscale(\"log\")\n",
    "plt.xscale(\"log\")\n",
    "plt.ylabel(r\"$\\langle \\sigma V\\rangle$ (cm$^3$ s$^{-1}$)\",fontsize=16) # c\n",
    "plt.xlabel(r\"$m_\\chi$\",fontsize=16) # Dark matter mass \n",
    "plt.savefig('rlvsFermi')\n",
    "plt.legend()\n",
    "plt.show()\n"
   ]
  }
 ],
 "metadata": {
  "kernelspec": {
   "display_name": "Python 3 (ipykernel)",
   "language": "python",
   "name": "python3"
  },
  "language_info": {
   "codemirror_mode": {
    "name": "ipython",
    "version": 3
   },
   "file_extension": ".py",
   "mimetype": "text/x-python",
   "name": "python",
   "nbconvert_exporter": "python",
   "pygments_lexer": "ipython3",
   "version": "3.9.12"
  },
  "vscode": {
   "interpreter": {
    "hash": "31f2aee4e71d21fbe5cf8b01ff0e069b9275f58929596ceb00d14d90e3e16cd6"
   }
  }
 },
 "nbformat": 4,
 "nbformat_minor": 5
}
